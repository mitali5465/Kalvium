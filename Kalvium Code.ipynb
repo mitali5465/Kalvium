{
 "cells": [
  {
   "cell_type": "code",
   "execution_count": null,
   "id": "f873a9e2",
   "metadata": {},
   "outputs": [],
   "source": [
    "def maxArea(height: List[int]) -> int:\n",
    "    # This variable will store the maximum area\n",
    "    max_area = -maxsize\n",
    "    # Left and right pointers\n",
    "    left = 0\n",
    "    right = len(height) - 1\n",
    "    # Loop until the two pointers meet\n",
    "    while left < right:\n",
    "        # Shorter of the two lines\n",
    "        shorter_line = min(height[left], height[right])\n",
    "        max_area = max(max_area, shorter_line * (right - left))\n",
    "        # If there is a longer vertical line present\n",
    "        if height[left] < height[right]:\n",
    "            left += 1\n",
    "        else:\n",
    "            right -= 1\n",
    "    return max_area"
   ]
  }
 ],
 "metadata": {
  "kernelspec": {
   "display_name": "Python 3 (ipykernel)",
   "language": "python",
   "name": "python3"
  },
  "language_info": {
   "codemirror_mode": {
    "name": "ipython",
    "version": 3
   },
   "file_extension": ".py",
   "mimetype": "text/x-python",
   "name": "python",
   "nbconvert_exporter": "python",
   "pygments_lexer": "ipython3",
   "version": "3.9.7"
  }
 },
 "nbformat": 4,
 "nbformat_minor": 5
}
